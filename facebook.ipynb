{
 "cells": [
  {
   "cell_type": "code",
   "execution_count": 1,
   "metadata": {},
   "outputs": [
    {
     "name": "stderr",
     "output_type": "stream",
     "text": [
      "/var/folders/41/t4024s9j7lsf7jdsjsqxx5280000gn/T/ipykernel_61373/1349112909.py:20: DeprecationWarning: executable_path has been deprecated, please pass in a Service object\n",
      "  driver = webdriver.Firefox(executable_path=r\"/Users/rogerjunior/geckodriver\")\n"
     ]
    }
   ],
   "source": [
    "from datetime import datetime\n",
    "from datetime import date\n",
    "from firebase_admin import credentials, db, firestore, storage\n",
    "from google.cloud.firestore_v1.base_query import FieldFilter, Or\n",
    "from selenium import webdriver\n",
    "from selenium.webdriver import Keys, ActionChains\n",
    "from selenium.webdriver.common.by import By\n",
    "import firebase_admin\n",
    "import json\n",
    "import openai\n",
    "import os\n",
    "import urllib.request\n",
    "import uuid\n",
    "import tiktoken\n",
    "from dotenv import load_dotenv\n",
    "from slugify import slugify\n",
    "import logging\n",
    "\n",
    "\n",
    "driver = webdriver.Firefox(executable_path=r\"/Users/rogerjunior/geckodriver\")"
   ]
  },
  {
   "cell_type": "code",
   "execution_count": 4,
   "metadata": {},
   "outputs": [],
   "source": [
    "def find_element(by, value):\n",
    "    '''\n",
    "    Find element by ID\n",
    "    input: elem_id\n",
    "    return: elemts\n",
    "    '''\n",
    "    try:\n",
    "        return driver.find_element(by=by, value=value)\n",
    "    except NoSuchElementException:\n",
    "        return None"
   ]
  },
  {
   "cell_type": "code",
   "execution_count": 11,
   "metadata": {},
   "outputs": [
    {
     "name": "stdout",
     "output_type": "stream",
     "text": [
      "Could not find event summary on page: https://www.facebook.com/events/846641470580108/\n",
      "Could not find event location on page: https://www.facebook.com/events/846641470580108/\n",
      "Could not find event description on page: https://www.facebook.com/events/846641470580108/\n",
      "{'id': '846641470580108', 'url': 'https://www.facebook.com/events/846641470580108', 'summary': '', 'location': '', 'description': ''}\n"
     ]
    }
   ],
   "source": [
    " def scrap_event(link):\n",
    "        \"\"\"\n",
    "        Scrap individual event page\n",
    "        input: event page link\n",
    "        output: appended self.events_list\n",
    "\n",
    "        \"\"\"\n",
    "        driver.get(link)\n",
    "        driver.execute_script(\"window.scrollTo(0, document.body.scrollHeight)\")\n",
    "\n",
    "        # try:\n",
    "        #     WebDriverWait(\n",
    "        #         driver, 10).until(\n",
    "        #         EC.visibility_of_element_located((By.CSS_SELECTOR, \".x193iq5w.xeuugli.x13faqbe.x1vvkbs.xlh3980.xvmahel.x1n0sxbx.x1lliihq.x1s928wv.xhkezso.x1gmr53x.x1cpjm7i.x1fgarty.x1943h6x.x14z4hjw.x41vudc.x1q74xe4.xyesn5m.x1xlr1w8.xzsf02u.x1yc453h\")))\n",
    "        # except Exception:\n",
    "        #     print(\"Time out on page: {}\".format(link))\n",
    "        #     return\n",
    "\n",
    "        event_info = {}\n",
    "        event_info[\"id\"] = link.split(\"/\")[4]\n",
    "        event_info[\"url\"] = \"https://www.facebook.com/events/\" + \\\n",
    "            str(event_info[\"id\"])\n",
    "\n",
    "        # Event summary\n",
    "        try:\n",
    "            event_info[\"summary\"] = find_element(by=By.ID, value=\"seo_h1_tag\").text\n",
    "        except Exception:\n",
    "            print(\"Could not find event summary on page: {}\".format(link))\n",
    "            event_info[\"summary\"] = ''\n",
    "\n",
    "        # Event location\n",
    "        try:\n",
    "            event_info[\"location\"] = find_element(by=By.CLASS_NAME, value=\"_4dpf._phw\").text\n",
    "        except Exception:\n",
    "            print(\"Could not find event location on page: {}\".format(link))\n",
    "            event_info[\"location\"] = ''\n",
    "\n",
    "        # Event description\n",
    "        try:\n",
    "            event_info[\"description\"] = find_element(by=By.CLASS_NAME, value= \"_63ew\").text\n",
    "            event_info[\"description\"] += \"\\n\\n\" + event_info[\"url\"]\n",
    "        except Exception:\n",
    "            print(\"Could not find event description on page: {}\".format(link))\n",
    "            event_info[\"description\"] = ''\n",
    "\n",
    "        # Event dates\n",
    "        # try:\n",
    "        #     event_info = self.find_dates(event_info)\n",
    "        # except Exception:\n",
    "        #     print(\"Could not find event dates on page: {}\".format(link))\n",
    "        #     print(\"This event cannot be recovered.\")\n",
    "        #     return\n",
    "\n",
    "        print(event_info)\n",
    "\n",
    "scrap_event(\"https://www.facebook.com/events/846641470580108/\")\n"
   ]
  },
  {
   "cell_type": "code",
   "execution_count": null,
   "metadata": {},
   "outputs": [],
   "source": []
  }
 ],
 "metadata": {
  "kernelspec": {
   "display_name": "base",
   "language": "python",
   "name": "python3"
  },
  "language_info": {
   "codemirror_mode": {
    "name": "ipython",
    "version": 3
   },
   "file_extension": ".py",
   "mimetype": "text/x-python",
   "name": "python",
   "nbconvert_exporter": "python",
   "pygments_lexer": "ipython3",
   "version": "3.9.7"
  }
 },
 "nbformat": 4,
 "nbformat_minor": 2
}
