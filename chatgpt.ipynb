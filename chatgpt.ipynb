{
 "cells": [
  {
   "cell_type": "code",
   "execution_count": 2,
   "metadata": {},
   "outputs": [
    {
     "name": "stderr",
     "output_type": "stream",
     "text": [
      "/var/folders/41/t4024s9j7lsf7jdsjsqxx5280000gn/T/ipykernel_12836/2827345077.py:8: DeprecationWarning: executable_path has been deprecated, please pass in a Service object\n",
      "  driver = webdriver.Firefox(executable_path=r'/Users/rogerjunior/geckodriver')\n"
     ]
    }
   ],
   "source": [
    "import openai\n",
    "import json\n",
    "import os\n",
    "from selenium import webdriver\n",
    "from selenium.webdriver.common.by import By\n",
    "from selenium.webdriver import Keys, ActionChains\n",
    "\n",
    "driver = webdriver.Firefox(executable_path=r'/Users/rogerjunior/geckodriver')\n",
    "\n",
    "openai.api_key = os.getenv(\"OPENAI_API_KEY\")"
   ]
  },
  {
   "cell_type": "code",
   "execution_count": 3,
   "metadata": {},
   "outputs": [],
   "source": [
    "js_code = \"\"\"function removeAttributesExceptSrcHrefAlt(element) {\n",
    "  const attributes = element.attributes;\n",
    "  for (let i = attributes.length - 1; i >= 0; i--) {\n",
    "    const attrName = attributes[i].name;\n",
    "    if (attrName !== 'src' && attrName !== 'href' && attrName !== 'alt') {\n",
    "      element.removeAttribute(attrName);\n",
    "    }\n",
    "  }\n",
    "  element.removeAttribute(\"class\")\n",
    "  element.removeAttribute(\"srcset\")\n",
    "  element.removeAttribute(\"style\")\n",
    "  element.removeAttribute(\"sizes\")\n",
    "}\n",
    "\n",
    "function minify_html(input) {\n",
    "  return input\n",
    "  .replace(/\\<\\!--\\s*?[^\\s?\\[][\\s\\S]*?--\\>/g,'')\n",
    "  .replace(/\\>\\s*\\</g,'><')\n",
    "  .replace(/\\s\\s+/g, '')\n",
    "}\n",
    "\n",
    "// Function to traverse and process all elements in the document\n",
    "function processAllElements(query) {\n",
    "  const allElements = document.querySelectorAll('*');\n",
    "\n",
    "  const tagsToRemove = [\"script\", \"svg\", \"style\", \"iframe\"];\n",
    "\n",
    "  tagsToRemove.forEach(tag => {\n",
    "    document.querySelectorAll(tag).forEach(el => {\n",
    "      el.remove()\n",
    "    })\n",
    "  });\n",
    "\n",
    "  allElements.forEach(function (element) {\n",
    "    removeAttributesExceptSrcHrefAlt(element);\n",
    "  });\n",
    "\n",
    "  return minify_html(document.querySelector(query).outerHTML);\n",
    "}\n",
    "\n",
    "processAllElements(\"body\") \"\"\""
   ]
  },
  {
   "cell_type": "code",
   "execution_count": 4,
   "metadata": {},
   "outputs": [],
   "source": [
    "driver.get(\"https://poshclublisbon.com/eventos/index.php\")\n",
    "driver.execute_script(js_code)\n",
    "body = driver.find_element(by=By.TAG_NAME, value=\"body\")\n",
    "html = body.get_attribute(\"innerHTML\")"
   ]
  },
  {
   "cell_type": "code",
   "execution_count": 5,
   "metadata": {},
   "outputs": [],
   "source": [
    "response = openai.ChatCompletion.create(\n",
    "    model=\"gpt-3.5-turbo\",\n",
    "    messages=[\n",
    "        {\"role\": \"system\", \"content\": \"You will be provided with an HTML source code. Your job is to extract all events listed and then format them like a JSON array of objects. Your response should contain only the resulting JSON with the following keys and formats:\\n- 'price' - look for '€', 'R$' or '$'. Format as a number like this 9.99. This should be a JSON number, which means no letters or apostrophes.\\n- 'currency' - should be 'EUR', 'BRL' or 'USD'\\n- 'name',\\n- 'date' - in the pattern: YYYY-MM-DDTHH:MM:SS.511Z. Note that today is 2023-10-11 so format dates written as weekdays accordingly.\\n- 'image',\\n- 'event_url',\\n- 'location'\"},\n",
    "        {\"role\": \"user\", \"content\": html},\n",
    "    ],\n",
    "    max_tokens=1000\n",
    ")"
   ]
  },
  {
   "cell_type": "code",
   "execution_count": 7,
   "metadata": {},
   "outputs": [],
   "source": [
    "import firebase_admin\n",
    "from firebase_admin import credentials\n",
    "from firebase_admin import db\n",
    "from firebase_admin import firestore\n",
    "from datetime import datetime\n",
    "import urllib.request \n",
    "import uuid\n",
    "from firebase_admin import storage"
   ]
  },
  {
   "cell_type": "code",
   "execution_count": 8,
   "metadata": {},
   "outputs": [
    {
     "data": {
      "text/plain": [
       "<firebase_admin.App at 0x7f8bd25a4d00>"
      ]
     },
     "execution_count": 8,
     "metadata": {},
     "output_type": "execute_result"
    }
   ],
   "source": [
    "cred = credentials.Certificate(\"firebase.json\")\n",
    "firebase_admin.initialize_app(cred, { 'storageBucket': 'the-queer-spot.appspot.com'})"
   ]
  },
  {
   "cell_type": "code",
   "execution_count": 11,
   "metadata": {},
   "outputs": [],
   "source": [
    "db = firestore.client()\n",
    "events = json.loads(response.choices[0].message.content)\n",
    "bucket = storage.bucket()\n",
    "\n",
    "for event in events:\n",
    "    event[\"createdAt\"] = firestore.SERVER_TIMESTAMP\n",
    "\n",
    "    date_format = \"%Y-%m-%dT%H:%M:%S.%fZ\" \n",
    "    event[\"date\"] = datetime.strptime(event[\"date\"], date_format)\n",
    "\n",
    "    url = event[\"image\"]\n",
    "    local_image = f\"events/{str(uuid.uuid4())}.{url.split('.')[-1]}\"\n",
    "    urllib.request.urlretrieve(url, local_image) \n",
    "    blob = bucket.blob(local_image)\n",
    "    blob.upload_from_filename(local_image)\n",
    "    blob.make_public()\n",
    "    event[\"image\"] = blob.public_url\n",
    "\n",
    "    doc_ref = db.collection(\"events\").document()\n",
    "    doc_ref.set(event)"
   ]
  },
  {
   "cell_type": "code",
   "execution_count": null,
   "metadata": {},
   "outputs": [],
   "source": []
  },
  {
   "cell_type": "code",
   "execution_count": null,
   "metadata": {},
   "outputs": [],
   "source": []
  }
 ],
 "metadata": {
  "kernelspec": {
   "display_name": "base",
   "language": "python",
   "name": "python3"
  },
  "language_info": {
   "codemirror_mode": {
    "name": "ipython",
    "version": 3
   },
   "file_extension": ".py",
   "mimetype": "text/x-python",
   "name": "python",
   "nbconvert_exporter": "python",
   "pygments_lexer": "ipython3",
   "version": "3.9.7"
  }
 },
 "nbformat": 4,
 "nbformat_minor": 2
}
