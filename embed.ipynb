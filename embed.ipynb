{
 "cells": [
  {
   "cell_type": "code",
   "execution_count": 1,
   "metadata": {},
   "outputs": [
    {
     "data": {
      "text/plain": [
       "<firebase_admin.App at 0x7fc6f08f88e0>"
      ]
     },
     "execution_count": 1,
     "metadata": {},
     "output_type": "execute_result"
    }
   ],
   "source": [
    "from datetime import datetime\n",
    "from datetime import date\n",
    "from firebase_admin import credentials, db, firestore, storage\n",
    "from google.cloud.firestore_v1.base_query import FieldFilter, Or\n",
    "from selenium import webdriver\n",
    "from selenium.webdriver import Keys, ActionChains\n",
    "from selenium.webdriver.common.by import By\n",
    "import firebase_admin\n",
    "import json\n",
    "import openai\n",
    "import os\n",
    "import urllib.request\n",
    "import uuid\n",
    "import tiktoken\n",
    "from dotenv import load_dotenv\n",
    "from slugify import slugify\n",
    "import logging\n",
    "\n",
    "cred = credentials.Certificate(\"firebase.json\")\n",
    "firebase_admin.initialize_app(cred, {\"storageBucket\": \"the-queer-spot.appspot.com\"})"
   ]
  },
  {
   "cell_type": "code",
   "execution_count": 8,
   "metadata": {},
   "outputs": [],
   "source": [
    "\n",
    "db = firestore.client()\n",
    "\n",
    "event_results = (\n",
    "    db.collection(\"events\")\n",
    "    .stream()\n",
    ")\n",
    "\n",
    "for event in event_results:\n",
    "    event_dict = event.to_dict()\n",
    "    organizer = event_dict[\"organizer\"].get()\n",
    "    organizer_dict = organizer.to_dict()\n",
    "    event_ref = db.collection(\"events\").document(event.id)\n",
    "    event_ref.set({ \"organizerData\" : organizer})\n"
   ]
  },
  {
   "cell_type": "code",
   "execution_count": null,
   "metadata": {},
   "outputs": [],
   "source": []
  }
 ],
 "metadata": {
  "kernelspec": {
   "display_name": "base",
   "language": "python",
   "name": "python3"
  },
  "language_info": {
   "codemirror_mode": {
    "name": "ipython",
    "version": 3
   },
   "file_extension": ".py",
   "mimetype": "text/x-python",
   "name": "python",
   "nbconvert_exporter": "python",
   "pygments_lexer": "ipython3",
   "version": "3.9.7"
  }
 },
 "nbformat": 4,
 "nbformat_minor": 2
}
